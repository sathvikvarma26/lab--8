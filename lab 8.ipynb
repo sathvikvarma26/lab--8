{
 "cells": [
  {
   "cell_type": "code",
   "execution_count": 1,
   "id": "57fd19c3",
   "metadata": {},
   "outputs": [
    {
     "name": "stdout",
     "output_type": "stream",
     "text": [
      "no     0.727273\n",
      "yes    0.272727\n",
      "Name: Buys computer, dtype: float64\n"
     ]
    }
   ],
   "source": [
    "import pandas as pd\n",
    "\n",
    "# Data\n",
    "data = {\n",
    "    'Age': [25, 26, 27, 28, 29, 30, 31, 32, 33, 34, 35],\n",
    "    'Income': [55000, 48000, 45000, 42000, 37000, 33000, 29000, 25000, 22000, 19000, 16000],\n",
    "    'Student': [0, 1, 0, 1, 0, 0, 1, 0, 0, 1, 0],\n",
    "    'Credit rating': ['fair', 'good', 'excellent', 'fair', 'fair', 'fair', 'poor', 'poor', 'poor', 'fair', 'poor'],\n",
    "    'Buys computer': ['yes', 'no', 'yes', 'no', 'yes', 'no', 'no', 'no', 'no', 'no', 'no']\n",
    "}\n",
    "\n",
    "# Create DataFrame\n",
    "df = pd.DataFrame(data)\n",
    "\n",
    "# Calculate prior probabilities\n",
    "prior_probabilities = df['Buys computer'].value_counts(normalize=True)\n",
    "\n",
    "# Print prior probabilities\n",
    "print(prior_probabilities)\n"
   ]
  },
  {
   "cell_type": "code",
   "execution_count": 2,
   "id": "4757bde5",
   "metadata": {},
   "outputs": [
    {
     "name": "stdout",
     "output_type": "stream",
     "text": [
      "Class-conditional densities for 'Age' and 'Buys computer = yes':\n",
      " [0.12098536 0.19947114 0.12098536]\n",
      "Class-conditional densities for 'Age' and 'Buys computer = no':\n",
      " [0.03176969 0.07737673 0.12239583 0.13093456 0.12574239 0.10840487\n",
      " 0.08389877 0.05829108]\n",
      "Class-conditional densities for 'Income' and 'Buys computer = yes':\n",
      " [2.58942167e-05 4.41152945e-05 2.78766701e-05]\n",
      "Class-conditional densities for 'Income' and 'Buys computer = no':\n",
      " [8.78495129e-06 1.86374327e-05 3.36540311e-05 3.55822286e-05\n",
      " 3.31225629e-05 2.88734010e-05 2.34294849e-05 1.76977609e-05]\n"
     ]
    }
   ],
   "source": [
    "import pandas as pd\n",
    "from scipy.stats import norm\n",
    "\n",
    "# Assuming 'df' is the DataFrame with the provided data\n",
    "# You can adapt this code based on the specific features you want to analyze\n",
    "\n",
    "# Separate the data by class\n",
    "class_yes = df[df['Buys computer'] == 'yes']\n",
    "class_no = df[df['Buys computer'] == 'no']\n",
    "\n",
    "# Calculate class-conditional densities for the 'Age' feature\n",
    "density_age_yes = norm.pdf(class_yes['Age'], loc=class_yes['Age'].mean(), scale=class_yes['Age'].std())\n",
    "density_age_no = norm.pdf(class_no['Age'], loc=class_no['Age'].mean(), scale=class_no['Age'].std())\n",
    "\n",
    "# Calculate class-conditional densities for the 'Income' feature\n",
    "density_income_yes = norm.pdf(class_yes['Income'], loc=class_yes['Income'].mean(), scale=class_yes['Income'].std())\n",
    "density_income_no = norm.pdf(class_no['Income'], loc=class_no['Income'].mean(), scale=class_no['Income'].std())\n",
    "\n",
    "# Print the densities\n",
    "print(\"Class-conditional densities for 'Age' and 'Buys computer = yes':\\n\", density_age_yes)\n",
    "print(\"Class-conditional densities for 'Age' and 'Buys computer = no':\\n\", density_age_no)\n",
    "print(\"Class-conditional densities for 'Income' and 'Buys computer = yes':\\n\", density_income_yes)\n",
    "print(\"Class-conditional densities for 'Income' and 'Buys computer = no':\\n\", density_income_no)\n"
   ]
  },
  {
   "cell_type": "code",
   "execution_count": 3,
   "id": "11777732",
   "metadata": {},
   "outputs": [
    {
     "name": "stdout",
     "output_type": "stream",
     "text": [
      "Chi-square statistic: 4.95\n",
      "P-value: 0.17549521657454262\n"
     ]
    }
   ],
   "source": [
    "import pandas as pd\n",
    "from scipy.stats import chi2_contingency\n",
    "\n",
    "# Data\n",
    "data = {\n",
    "    'Age': [25, 26, 27, 28, 29, 30, 31, 32, 33, 34, 35],\n",
    "    'Income': [55000, 48000, 45000, 42000, 37000, 33000, 29000, 25000, 22000, 19000, 16000],\n",
    "    'Student': [0, 1, 0, 1, 0, 0, 1, 0, 0, 1, 0],\n",
    "    'Credit rating': ['fair', 'good', 'excellent', 'fair', 'fair', 'fair', 'poor', 'poor', 'poor', 'fair', 'poor'],\n",
    "    'Buys computer': ['yes', 'no', 'yes', 'no', 'yes', 'no', 'no', 'no', 'no', 'no', 'no']\n",
    "}\n",
    "\n",
    "# Create DataFrame\n",
    "df = pd.DataFrame(data)\n",
    "\n",
    "# Create a contingency table\n",
    "contingency_table = pd.crosstab(df['Credit rating'], df['Buys computer'])\n",
    "\n",
    "# Test for independence\n",
    "c_statistic, p_value, _, _ = chi2_contingency(contingency_table)\n",
    "\n",
    "# Print results\n",
    "print(\"Chi-square statistic:\", c_statistic)\n",
    "print(\"P-value:\", p_value)"
   ]
  },
  {
   "cell_type": "code",
   "execution_count": null,
   "id": "23b6ec31",
   "metadata": {},
   "outputs": [],
   "source": []
  }
 ],
 "metadata": {
  "kernelspec": {
   "display_name": "Python 3 (ipykernel)",
   "language": "python",
   "name": "python3"
  },
  "language_info": {
   "codemirror_mode": {
    "name": "ipython",
    "version": 3
   },
   "file_extension": ".py",
   "mimetype": "text/x-python",
   "name": "python",
   "nbconvert_exporter": "python",
   "pygments_lexer": "ipython3",
   "version": "3.11.4"
  }
 },
 "nbformat": 4,
 "nbformat_minor": 5
}
import pandas as pd
from sklearn.naive_bayes import GaussianNB
from sklearn.model_selection import train_test_split
from sklearn.metrics import accuracy_score

#Load the table data
table_data = {
    'age': ['<=30', '<=30', '31-40', '>40', '>40', '>40', '31-40', '<=30', '<=30', '>40', '<=30', '31-40', '31-40', '>40'],
    'income': ['high', 'high', 'high', 'medium', 'low', 'low', 'low', 'medium', 'low', 'medium', 'medium', 'medium', 'high', 'medium'],
    'student': ['no', 'no', 'no', 'no', 'yes', 'yes', 'yes', 'no', 'yes', 'yes', 'yes', 'no', 'yes', 'no'],
    'credit_rating': ['fair', 'excellent', 'fair', 'fair', 'fair', 'excellent', 'excellent', 'fair', 'fair', 'fair', 'excellent', 'excellent', 'fair', 'excellent'],
    'buys_computer': ['no', 'no', 'yes', 'yes', 'yes', 'no', 'yes', 'no', 'yes', 'yes', 'yes', 'yes', 'yes', 'no']
}

df = pd.DataFrame(table_data)

# Assuming 'buys_computer' is the target variable
X = df.drop('buys_computer', axis=1)
y = df['buys_computer']

# Convert categorical variables to numerical using one-hot encoding
X_encoded = pd.get_dummies(X)

# Split the data into training and testing sets
Tr_X, Te_X, Tr_y, Te_y = train_test_split(X_encoded, y, test_size=0.2, random_state=42)

# Build and train the Naïve-Bayes classifier
model = GaussianNB()
model.fit(Tr_X, Tr_y)

# Make predictions on the test set
predictions = model.predict(Te_X)

# Evaluate the accuracy of the model
accuracy = accuracy_score(Te_y, predictions)
print(f"Accuracy: {accuracy}")
