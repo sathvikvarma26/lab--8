{
 "cells": [
  {
   "cell_type": "code",
   "execution_count": 1,
   "id": "a69294b0",
   "metadata": {},
   "outputs": [
    {
     "name": "stdout",
     "output_type": "stream",
     "text": [
      "yes    0.642857\n",
      "no     0.357143\n",
      "Name: buys_computer, dtype: float64\n"
     ]
    }
   ],
   "source": [
    "import pandas as pd\n",
    "import numpy as np\n",
    "\n",
    "#Load the table data\n",
    "table_data = {\n",
    "  'age': ['<=30', '<=30', '31-40', '>40', '>40', '>40', '31-40', '<=30', '<=30', '>40', '<=30', '31-40', '31-40', '>40'],\n",
    "  'income': ['high', 'high', 'high', 'medium', 'low', 'low', 'low', 'medium', 'low', 'medium', 'medium', 'medium', 'high', 'medium'],\n",
    "  'student': ['no', 'no', 'no', 'no', 'yes', 'yes', 'yes', 'no', 'yes', 'yes', 'yes', 'no', 'yes', 'no'],\n",
    "  'credit_rating': ['fair', 'excellent', 'fair', 'fair', 'fair', 'excellent', 'excellent', 'fair', 'fair', 'fair', 'excellent', 'excellent', 'fair', 'excellent'],\n",
    "  'buys_computer': ['no', 'no', 'yes', 'yes', 'yes', 'no', 'yes', 'no', 'yes', 'yes', 'yes', 'yes', 'yes', 'no']\n",
    "}\n",
    "\n",
    "df = pd.DataFrame(table_data)\n",
    "\n",
    "# Count the number of instances in each class\n",
    "class_counts = df['buys_computer'].value_counts()\n",
    "\n",
    "# Calculate the prior probability for each class\n",
    "prior_probabilities = class_counts / df.shape[0]\n",
    "\n",
    "print(prior_probabilities)"
   ]
  },
  {
   "cell_type": "code",
   "execution_count": 2,
   "id": "89ee0f63",
   "metadata": {},
   "outputs": [
    {
     "name": "stdout",
     "output_type": "stream",
     "text": [
      "P(age=<=30 | buys_computer=no) = 0.050715988122805825\n",
      "P(age=31-40 | buys_computer=no) = 0.0564682890594362\n",
      "P(age=>40 | buys_computer=no) = 0.036339593436678766\n",
      "P(age=<=30 | buys_computer=yes) = 0.056197530114517336\n",
      "P(age=31-40 | buys_computer=yes) = 0.0642838998679617\n",
      "P(age=>40 | buys_computer=yes) = 0.031820267130607836\n",
      "P(income | buys_computer=no) = income\n",
      "high      0.500000\n",
      "low       0.250000\n",
      "medium    0.333333\n",
      "All       0.357143\n",
      "dtype: float64\n",
      "P(student | buys_computer=no) = student\n",
      "no     0.571429\n",
      "yes    0.142857\n",
      "All    0.357143\n",
      "dtype: float64\n",
      "P(credit_rating | buys_computer=no) = credit_rating\n",
      "excellent    0.500000\n",
      "fair         0.250000\n",
      "All          0.357143\n",
      "dtype: float64\n",
      "P(income | buys_computer=yes) = income\n",
      "high      0.500000\n",
      "low       0.750000\n",
      "medium    0.666667\n",
      "All       0.642857\n",
      "dtype: float64\n",
      "P(student | buys_computer=yes) = student\n",
      "no     0.428571\n",
      "yes    0.857143\n",
      "All    0.642857\n",
      "dtype: float64\n",
      "P(credit_rating | buys_computer=yes) = credit_rating\n",
      "excellent    0.500000\n",
      "fair         0.750000\n",
      "All          0.642857\n",
      "dtype: float64\n"
     ]
    }
   ],
   "source": [
    "import pandas as pd\n",
    "import numpy as np\n",
    "from scipy.stats import norm\n",
    "\n",
    "def map_age_to_numeric(age_str):\n",
    "    if '-' in age_str:\n",
    "        return int(age_str.split('-')[0])\n",
    "    elif '>' in age_str:\n",
    "        return int(age_str.replace('>', '')) + 1  # Add 1 to represent an age greater than the upper limit\n",
    "    elif '<=' in age_str:\n",
    "        return int(age_str.replace('<=', ''))\n",
    "    else:\n",
    "        return int(age_str)\n",
    "\n",
    "#Load the table data\n",
    "table_data = {\n",
    "    'age': ['<=30', '<=30', '31-40', '>40', '>40', '>40', '31-40', '<=30', '<=30', '>40', '<=30', '31-40', '31-40', '>40'],\n",
    "    'income': ['high', 'high', 'high', 'medium', 'low', 'low', 'low', 'medium', 'low', 'medium', 'medium', 'medium', 'high', 'medium'],\n",
    "    'student': ['no', 'no', 'no', 'no', 'yes', 'yes', 'yes', 'no', 'yes', 'yes', 'yes', 'no', 'yes', 'no'],\n",
    "    'credit_rating': ['fair', 'excellent', 'fair', 'fair', 'fair', 'excellent', 'excellent', 'fair', 'fair', 'fair', 'excellent', 'excellent', 'fair', 'excellent'],\n",
    "    'buys_computer': ['no', 'no', 'yes', 'yes', 'yes', 'no', 'yes', 'no', 'yes', 'yes', 'yes', 'yes', 'yes', 'no']\n",
    "}\n",
    "\n",
    "df = pd.DataFrame(table_data)\n",
    "\n",
    "# Calculate class conditional densities for age (assuming a normal distribution)\n",
    "for cls in df['buys_computer'].unique():\n",
    "    for age_range in df['age'].unique():\n",
    "        subset = df[df['buys_computer'] == cls]\n",
    "        age_values = subset['age'].apply(map_age_to_numeric)\n",
    "        mean_age = age_values.mean()\n",
    "        std_dev_age = age_values.std()\n",
    "        numeric_age = map_age_to_numeric(age_range)\n",
    "        density = norm.pdf(numeric_age, mean_age, std_dev_age)\n",
    "        print(f'P(age={age_range} | buys_computer={cls}) = {density}')\n",
    "\n",
    "# Calculate class conditional densities for categorical features\n",
    "categorical_features = ['income', 'student', 'credit_rating']\n",
    "for cls in df['buys_computer'].unique():\n",
    "    for feature in categorical_features:\n",
    "        crosstab = pd.crosstab(df[feature], df['buys_computer'], margins=True, normalize=True)\n",
    "        conditional_density = crosstab[cls] / crosstab['All']\n",
    "        print(f'P({feature} | buys_computer={cls}) = {conditional_density}')"
   ]
  },
  {
   "cell_type": "code",
   "execution_count": 3,
   "id": "194629ae",
   "metadata": {},
   "outputs": [
    {
     "name": "stdout",
     "output_type": "stream",
     "text": [
      "Chi-squared value: 12.95\n",
      "P-value: 0.9895621498194425\n",
      "The features are independent (fail to reject the null hypothesis)\n"
     ]
    }
   ],
   "source": [
    "import pandas as pd\n",
    "from scipy.stats import chi2_contingency\n",
    "\n",
    "#Load the table data\n",
    "table_data = {\n",
    "    'age': ['<=30', '<=30', '31-40', '>40', '>40', '>40', '31-40', '<=30', '<=30', '>40', '<=30', '31-40', '31-40', '>40'],\n",
    "    'income': ['high', 'high', 'high', 'medium', 'low', 'low', 'low', 'medium', 'low', 'medium', 'medium', 'medium', 'high', 'medium'],\n",
    "    'student': ['no', 'no', 'no', 'no', 'yes', 'yes', 'yes', 'no', 'yes', 'yes', 'yes', 'no', 'yes', 'no'],\n",
    "    'credit_rating': ['fair', 'excellent', 'fair', 'fair', 'fair', 'excellent', 'excellent', 'fair', 'fair', 'fair', 'excellent', 'excellent', 'fair', 'excellent'],\n",
    "    'buys_computer': ['no', 'no', 'yes', 'yes', 'yes', 'no', 'yes', 'no', 'yes', 'yes', 'yes', 'yes', 'yes', 'no']\n",
    "}\n",
    "\n",
    "df = pd.DataFrame(table_data)\n",
    "\n",
    "# Create a contingency table\n",
    "contingency_table = pd.crosstab(index=df['age'], columns=[df['income'], df['student'], df['credit_rating']], margins=True)\n",
    "\n",
    "# Perform the chi-squared test for independence\n",
    "chi2, p, _, _ = chi2_contingency(contingency_table)\n",
    "\n",
    "# Print the results\n",
    "print(f\"Chi-squared value: {chi2}\")\n",
    "print(f\"P-value: {p}\")\n",
    "\n",
    "# Check if the null hypothesis (independence) is rejected\n",
    "alpha = 0.05\n",
    "if p < alpha:\n",
    "    print(\"The features are not independent (reject the null hypothesis)\")\n",
    "else:\n",
    "    print(\"The features are independent (fail to reject the null hypothesis)\")"
   ]
  },
  {
   "cell_type": "code",
   "execution_count": 4,
   "id": "d6e340c5",
   "metadata": {},
   "outputs": [
    {
     "name": "stdout",
     "output_type": "stream",
     "text": [
      "Accuracy: 0.6666666666666666\n"
     ]
    }
   ],
   "source": [
    "import pandas as pd\n",
    "from sklearn.naive_bayes import GaussianNB\n",
    "from sklearn.model_selection import train_test_split\n",
    "from sklearn.metrics import accuracy_score\n",
    "\n",
    "#Load the table data\n",
    "table_data = {\n",
    "    'age': ['<=30', '<=30', '31-40', '>40', '>40', '>40', '31-40', '<=30', '<=30', '>40', '<=30', '31-40', '31-40', '>40'],\n",
    "    'income': ['high', 'high', 'high', 'medium', 'low', 'low', 'low', 'medium', 'low', 'medium', 'medium', 'medium', 'high', 'medium'],\n",
    "    'student': ['no', 'no', 'no', 'no', 'yes', 'yes', 'yes', 'no', 'yes', 'yes', 'yes', 'no', 'yes', 'no'],\n",
    "    'credit_rating': ['fair', 'excellent', 'fair', 'fair', 'fair', 'excellent', 'excellent', 'fair', 'fair', 'fair', 'excellent', 'excellent', 'fair', 'excellent'],\n",
    "    'buys_computer': ['no', 'no', 'yes', 'yes', 'yes', 'no', 'yes', 'no', 'yes', 'yes', 'yes', 'yes', 'yes', 'no']\n",
    "}\n",
    "\n",
    "df = pd.DataFrame(table_data)\n",
    "\n",
    "# Assuming 'buys_computer' is the target variable\n",
    "X = df.drop('buys_computer', axis=1)\n",
    "y = df['buys_computer']\n",
    "\n",
    "# Convert categorical variables to numerical using one-hot encoding\n",
    "X_encoded = pd.get_dummies(X)\n",
    "\n",
    "# Split the data into training and testing sets\n",
    "Tr_X, Te_X, Tr_y, Te_y = train_test_split(X_encoded, y, test_size=0.2, random_state=42)\n",
    "\n",
    "# Build and train the Naïve-Bayes classifier\n",
    "model = GaussianNB()\n",
    "model.fit(Tr_X, Tr_y)\n",
    "\n",
    "# Make predictions on the test set\n",
    "predictions = model.predict(Te_X)\n",
    "\n",
    "# Evaluate the accuracy of the model\n",
    "accuracy = accuracy_score(Te_y, predictions)\n",
    "print(f\"Accuracy: {accuracy}\")"
   ]
  },
  {
   "cell_type": "code",
   "execution_count": 7,
   "id": "049dafac",
   "metadata": {},
   "outputs": [
    {
     "name": "stdout",
     "output_type": "stream",
     "text": [
      "Accuracy: 0.42777777777777776\n"
     ]
    }
   ],
   "source": [
    "import pandas as pd\n",
    "from sklearn.naive_bayes import GaussianNB\n",
    "from sklearn.model_selection import train_test_split\n",
    "from sklearn.metrics import accuracy_score\n",
    "\n",
    "# Load the dataset\n",
    "data = pd.read_excel(r\"C:\\Users\\DELL\\Downloads\\Untitled Folder\\embeddingsdatasheet-1.xlsx\")\n",
    "\n",
    "# 'embed_0' and 'embed_1' are the features and 'Label' is the target variable\n",
    "X = data[['embed_0', 'embed_1']]\n",
    "y = data['Label']\n",
    "\n",
    "# Split the data into training and testing sets\n",
    "Tr_X, Te_X, Tr_y, Te_y = train_test_split(X, y, test_size=0.2, random_state=42)\n",
    "\n",
    "# Build and train the Naïve-Bayes classifier\n",
    "model = GaussianNB()\n",
    "model.fit(Tr_X, Tr_y)\n",
    "\n",
    "# Make predictions on the test set\n",
    "predictions = model.predict(Te_X)\n",
    "\n",
    "# Evaluate the accuracy of the model\n",
    "accuracy = accuracy_score(Te_y, predictions)\n",
    "print(f\"Accuracy: {accuracy}\")    "
   ]
  },
  {
   "cell_type": "code",
   "execution_count": null,
   "id": "24bdd599",
   "metadata": {},
   "outputs": [],
   "source": []
  }
 ],
 "metadata": {
  "kernelspec": {
   "display_name": "Python 3 (ipykernel)",
   "language": "python",
   "name": "python3"
  },
  "language_info": {
   "codemirror_mode": {
    "name": "ipython",
    "version": 3
   },
   "file_extension": ".py",
   "mimetype": "text/x-python",
   "name": "python",
   "nbconvert_exporter": "python",
   "pygments_lexer": "ipython3",
   "version": "3.11.4"
  }
 },
 "nbformat": 4,
 "nbformat_minor": 5
}
